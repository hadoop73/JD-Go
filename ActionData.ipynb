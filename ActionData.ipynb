{
 "cells": [
  {
   "cell_type": "code",
   "execution_count": 1,
   "metadata": {
    "collapsed": true
   },
   "outputs": [],
   "source": [
    "from pyspark import SparkContext,SparkConf\n",
    "from pyspark.sql import SQLContext\n",
    "from pyspark.sql.types import *\n",
    "\n",
    "import os\n",
    "os.environ[\"SPARK_HOME\"] = \"/home/hadoop/spark-2.0.1-bin-hadoop2.7\"   #KeyError: 'SPARK_HOME'\n",
    "conf = SparkConf()\n",
    "conf.setMaster('spark://192.168.1.116:7077')\n",
    "sc=SparkContext(appName='JD',conf=conf)\n",
    "sqlContext = SQLContext(sc)"
   ]
  },
  {
   "cell_type": "code",
   "execution_count": 31,
   "metadata": {
    "collapsed": false
   },
   "outputs": [
    {
     "name": "stdout",
     "output_type": "stream",
     "text": [
      "+-------+------+-------------------+--------+----+----+-----+\n",
      "|user_id|sku_id|               time|model_id|type|cate|brand|\n",
      "+-------+------+-------------------+--------+----+----+-----+\n",
      "|  70062|168043|2016-03-01 03:23:13|    null|   6|   6|  269|\n",
      "|  70062|168043|2016-03-01 03:28:48|    null|   6|   6|  269|\n",
      "|  70062|168043|2016-03-01 09:48:13|    null|   6|   6|  269|\n",
      "|  70062|168043|2016-03-01 09:48:31|    null|   6|   6|  269|\n",
      "|  70062|168043|2016-03-01 03:28:48|    null|   6|   6|  269|\n",
      "+-------+------+-------------------+--------+----+----+-----+\n",
      "only showing top 5 rows\n",
      "\n"
     ]
    }
   ],
   "source": [
    "dfaction = sqlContext.read.format('com.databricks.spark.csv').options(header='true',charset = \"GBK\").load('file:///home/hadoop/PycharmProjects/JD-Go/data/JData_Action_201603.csv')\n",
    "dfaction.show(5)"
   ]
  },
  {
   "cell_type": "code",
   "execution_count": 43,
   "metadata": {
    "collapsed": false
   },
   "outputs": [
    {
     "name": "stdout",
     "output_type": "stream",
     "text": [
      "+-------+------+--------------------+--------+----+----+-----+\n",
      "|user_id|sku_id|                time|model_id|type|cate|brand|\n",
      "+-------+------+--------------------+--------+----+----+-----+\n",
      "|  70062|168043|2016-03-01 03:23:...|    null|   6|   6|  269|\n",
      "|  70062|168043|2016-03-01 03:28:...|    null|   6|   6|  269|\n",
      "|  70062|168043|2016-03-01 09:48:...|    null|   6|   6|  269|\n",
      "|  70062|168043|2016-03-01 09:48:...|    null|   6|   6|  269|\n",
      "|  70062|168043|2016-03-01 03:28:...|    null|   6|   6|  269|\n",
      "+-------+------+--------------------+--------+----+----+-----+\n",
      "only showing top 5 rows\n",
      "\n"
     ]
    }
   ],
   "source": [
    "df = dfaction.withColumn(\"time\", dfaction[\"time\"].cast(TimestampType()))\n",
    "df.show(5)"
   ]
  },
  {
   "cell_type": "code",
   "execution_count": 44,
   "metadata": {
    "collapsed": false
   },
   "outputs": [],
   "source": [
    "from pyspark.sql import functions\n",
    "df = df.withColumn('count', functions.lit(1))"
   ]
  },
  {
   "cell_type": "code",
   "execution_count": 47,
   "metadata": {
    "collapsed": false
   },
   "outputs": [
    {
     "name": "stdout",
     "output_type": "stream",
     "text": [
      "+-------+------+----+----------+--------------------+\n",
      "|user_id|sku_id|type|sum(count)|           max(time)|\n",
      "+-------+------+----+----------+--------------------+\n",
      "|  31447| 62476|   6|         1|2016-03-01 11:06:...|\n",
      "|  32400|140412|   6|         7|2016-03-01 11:11:...|\n",
      "|  24092| 22962|   6|         5|2016-03-01 22:11:...|\n",
      "|  94947| 50225|   6|         2|2016-03-01 15:51:...|\n",
      "|  60530| 81163|   6|         2|2016-03-01 06:32:...|\n",
      "+-------+------+----+----------+--------------------+\n",
      "only showing top 5 rows\n",
      "\n"
     ]
    }
   ],
   "source": [
    "dt = df.groupby(['user_id','sku_id','type']).agg({'count':'sum','time':'max'})\n",
    "dt.show(5)"
   ]
  },
  {
   "cell_type": "code",
   "execution_count": 55,
   "metadata": {
    "collapsed": false
   },
   "outputs": [
    {
     "name": "stdout",
     "output_type": "stream",
     "text": [
      "+-------+------+----+----------+--------------------+\n",
      "|user_id|sku_id|type|sum(count)|           max(time)|\n",
      "+-------+------+----+----------+--------------------+\n",
      "|  31447| 62476|   6|         1|2016-03-01 11:06:...|\n",
      "|  32400|140412|   6|         7|2016-03-01 11:11:...|\n",
      "|  24092| 22962|   6|         5|2016-03-01 22:11:...|\n",
      "|  94947| 50225|   6|         2|2016-03-01 15:51:...|\n",
      "|  60530| 81163|   6|         2|2016-03-01 06:32:...|\n",
      "+-------+------+----+----------+--------------------+\n",
      "only showing top 5 rows\n",
      "\n"
     ]
    }
   ],
   "source": [
    "dt.show(5)"
   ]
  },
  {
   "cell_type": "code",
   "execution_count": 65,
   "metadata": {
    "collapsed": false
   },
   "outputs": [
    {
     "name": "stdout",
     "output_type": "stream",
     "text": [
      "+-------+------+----+----------+--------------------+------+----------+------+----------+------+----------+------+----------+------+----------+------+----------+\n",
      "|user_id|sku_id|type|sum(count)|           max(time)|type#1|typetime#1|type#2|typetime#2|type#3|typetime#3|type#4|typetime#4|type#5|typetime#5|type#6|typetime#6|\n",
      "+-------+------+----+----------+--------------------+------+----------+------+----------+------+----------+------+----------+------+----------+------+----------+\n",
      "|  31447| 62476|   6|         1|2016-03-01 11:06:...|     0|         0|     0|         0|     0|         0|     0|         0|     0|         0|     0|         0|\n",
      "|  32400|140412|   6|         7|2016-03-01 11:11:...|     0|         0|     0|         0|     0|         0|     0|         0|     0|         0|     0|         0|\n",
      "|  24092| 22962|   6|         5|2016-03-01 22:11:...|     0|         0|     0|         0|     0|         0|     0|         0|     0|         0|     0|         0|\n",
      "|  94947| 50225|   6|         2|2016-03-01 15:51:...|     0|         0|     0|         0|     0|         0|     0|         0|     0|         0|     0|         0|\n",
      "|  60530| 81163|   6|         2|2016-03-01 06:32:...|     0|         0|     0|         0|     0|         0|     0|         0|     0|         0|     0|         0|\n",
      "+-------+------+----+----------+--------------------+------+----------+------+----------+------+----------+------+----------+------+----------+------+----------+\n",
      "only showing top 5 rows\n",
      "\n"
     ]
    }
   ],
   "source": [
    "ddt = dt\n",
    "for i in range(1,7):\n",
    "    ddt= ddt.withColumn(\"type#\"+str(i), functions.lit(0))\n",
    "    ddt= ddt.withColumn(\"typetime#\"+str(i), functions.lit(0))\n",
    "ddt.show(5)\n"
   ]
  },
  {
   "cell_type": "code",
   "execution_count": 85,
   "metadata": {
    "collapsed": false
   },
   "outputs": [
    {
     "name": "stdout",
     "output_type": "stream",
     "text": [
      "+-------+------+----+----------+--------------------+------+----------+------+----------+------+----------+------+----------+------+----------+------+----------+\n",
      "|user_id|sku_id|type|sum(count)|           max(time)|type#1|typetime#1|type#2|typetime#2|type#3|typetime#3|type#4|typetime#4|type#5|typetime#5|type#6|typetime#6|\n",
      "+-------+------+----+----------+--------------------+------+----------+------+----------+------+----------+------+----------+------+----------+------+----------+\n",
      "|  31447| 62476|   6|         1|2016-03-01 11:06:...|     0|         0|     0|         0|     0|         0|     0|         0|     0|         0|     0|         0|\n",
      "|  32400|140412|   6|         7|2016-03-01 11:11:...|     0|         0|     0|         0|     0|         0|     0|         0|     0|         0|     0|         0|\n",
      "|  24092| 22962|   6|         5|2016-03-01 22:11:...|     0|         0|     0|         0|     0|         0|     0|         0|     0|         0|     0|         0|\n",
      "|  94947| 50225|   6|         2|2016-03-01 15:51:...|     0|         0|     0|         0|     0|         0|     0|         0|     0|         0|     0|         0|\n",
      "|  60530| 81163|   6|         2|2016-03-01 06:32:...|     0|         0|     0|         0|     0|         0|     0|         0|     0|         0|     0|         0|\n",
      "+-------+------+----+----------+--------------------+------+----------+------+----------+------+----------+------+----------+------+----------+------+----------+\n",
      "only showing top 5 rows\n",
      "\n"
     ]
    }
   ],
   "source": [
    "ddt.show(5)"
   ]
  },
  {
   "cell_type": "code",
   "execution_count": 91,
   "metadata": {
    "collapsed": false
   },
   "outputs": [
    {
     "name": "stdout",
     "output_type": "stream",
     "text": [
      "+-------+------+----+----------+--------------------+------+----------+------+----------+------+----------+------+----------+------+----------+------+----------+\n",
      "|user_id|sku_id|type|sum(count)|           max(time)|type#1|typetime#1|type#2|typetime#2|type#3|typetime#3|type#4|typetime#4|type#5|typetime#5|type#6|typetime#6|\n",
      "+-------+------+----+----------+--------------------+------+----------+------+----------+------+----------+------+----------+------+----------+------+----------+\n",
      "|  35232| 66131|   2|         1|2016-03-01 18:51:...|     0|         0|     0|         0|     0|         0|     0|         0|     0|         0|     0|         0|\n",
      "| 100659| 39695|   2|         1|2016-03-01 20:58:...|     0|         0|     0|         0|     0|         0|     0|         0|     0|         0|     0|         0|\n",
      "|  94323|  6866|   2|         1|2016-03-01 07:24:...|     0|         0|     0|         0|     0|         0|     0|         0|     0|         0|     0|         0|\n",
      "|  53153|165594|   2|         2|2016-03-01 19:56:...|     0|         0|     0|         0|     0|         0|     0|         0|     0|         0|     0|         0|\n",
      "|  28794| 37427|   2|         1|2016-03-01 02:31:...|     0|         0|     0|         0|     0|         0|     0|         0|     0|         0|     0|         0|\n",
      "+-------+------+----+----------+--------------------+------+----------+------+----------+------+----------+------+----------+------+----------+------+----------+\n",
      "only showing top 5 rows\n",
      "\n"
     ]
    }
   ],
   "source": [
    "ddt.filter(ddt.type==2).show(5)"
   ]
  },
  {
   "cell_type": "code",
   "execution_count": 98,
   "metadata": {
    "collapsed": false
   },
   "outputs": [
    {
     "name": "stdout",
     "output_type": "stream",
     "text": [
      "+-------+------+----+----------+--------------------+------+----------+------+----------+------+----------+------+----------+------+----------+------+----------+\n",
      "|user_id|sku_id|type|sum(count)|           max(time)|type#1|typetime#1|type#2|typetime#2|type#3|typetime#3|type#4|typetime#4|type#5|typetime#5|type#6|typetime#6|\n",
      "+-------+------+----+----------+--------------------+------+----------+------+----------+------+----------+------+----------+------+----------+------+----------+\n",
      "|  31447| 62476|   6|         1|2016-03-01 11:06:...|     0|         0|     0|         0|     0|         0|     0|         0|     0|         0|     0|         0|\n",
      "|  32400|140412|   6|         7|2016-03-01 11:11:...|     0|         0|     0|         0|     0|         0|     0|         0|     0|         0|     0|         0|\n",
      "|  24092| 22962|   6|         5|2016-03-01 22:11:...|     0|         0|     0|         0|     0|         0|     0|         0|     0|         0|     0|         0|\n",
      "|  94947| 50225|   6|         2|2016-03-01 15:51:...|     0|         0|     0|         0|     0|         0|     0|         0|     0|         0|     0|         0|\n",
      "|  60530| 81163|   6|         2|2016-03-01 06:32:...|     0|         0|     0|         0|     0|         0|     0|         0|     0|         0|     0|         0|\n",
      "+-------+------+----+----------+--------------------+------+----------+------+----------+------+----------+------+----------+------+----------+------+----------+\n",
      "only showing top 5 rows\n",
      "\n"
     ]
    }
   ],
   "source": [
    "ddt.show(5)"
   ]
  },
  {
   "cell_type": "code",
   "execution_count": null,
   "metadata": {
    "collapsed": false
   },
   "outputs": [],
   "source": []
  },
  {
   "cell_type": "code",
   "execution_count": 176,
   "metadata": {
    "collapsed": false
   },
   "outputs": [
    {
     "name": "stdout",
     "output_type": "stream",
     "text": [
      "+-------+------+----+----------+--------------------+------+----------+------+----------+------+----------+------+----------+------+----------+------+----------+\n",
      "|user_id|sku_id|type|sum(count)|           max(time)|type#1|typetime#1|type#2|typetime#2|type#3|typetime#3|type#4|typetime#4|type#5|typetime#5|type#6|typetime#6|\n",
      "+-------+------+----+----------+--------------------+------+----------+------+----------+------+----------+------+----------+------+----------+------+----------+\n",
      "|  31447| 62476|   6|         1|2016-03-01 11:06:...|   0.0|         0|   0.0|         0|   0.0|         0|   0.0|         0|   0.0|         0|   1.0|         0|\n",
      "|  32400|140412|   6|         7|2016-03-01 11:11:...|   0.0|         0|   0.0|         0|   0.0|         0|   0.0|         0|   0.0|         0|   7.0|         0|\n",
      "|  24092| 22962|   6|         5|2016-03-01 22:11:...|   0.0|         0|   0.0|         0|   0.0|         0|   0.0|         0|   0.0|         0|   5.0|         0|\n",
      "|  94947| 50225|   6|         2|2016-03-01 15:51:...|   0.0|         0|   0.0|         0|   0.0|         0|   0.0|         0|   0.0|         0|   2.0|         0|\n",
      "|  60530| 81163|   6|         2|2016-03-01 06:32:...|   0.0|         0|   0.0|         0|   0.0|         0|   0.0|         0|   0.0|         0|   2.0|         0|\n",
      "+-------+------+----+----------+--------------------+------+----------+------+----------+------+----------+------+----------+------+----------+------+----------+\n",
      "only showing top 5 rows\n",
      "\n"
     ]
    }
   ],
   "source": [
    "from pyspark.sql.functions import UserDefinedFunction\n",
    "from pyspark.sql.functions import udf\n",
    "\n",
    "#print f(ddt['type'],ddt['sum(count)'])\n",
    "ad = ddt\n",
    "for i in range(1,7):\n",
    "    def func(x,y):\n",
    "        if int(x)==i:\n",
    "            return float(y)\n",
    "        else:\n",
    "            return float(0)\n",
    "\n",
    "    f = udf(func ,DoubleType())\n",
    "    ad = ad.withColumn(\"type#\"+str(i), f('type','sum(count)'))\n",
    "\n",
    "ad.show(5)"
   ]
  },
  {
   "cell_type": "code",
   "execution_count": 186,
   "metadata": {
    "collapsed": false
   },
   "outputs": [
    {
     "name": "stdout",
     "output_type": "stream",
     "text": [
      "+-------+------+----+----------+--------------------+------+----------+------+----------+------+----------+------+----------+------+----------+------+----------+\n",
      "|user_id|sku_id|type|sum(count)|                time|type#1|typetime#1|type#2|typetime#2|type#3|typetime#3|type#4|typetime#4|type#5|typetime#5|type#6|typetime#6|\n",
      "+-------+------+----+----------+--------------------+------+----------+------+----------+------+----------+------+----------+------+----------+------+----------+\n",
      "|  31447| 62476|   6|         1|2016-03-01 11:06:...|   0.0|         0|   0.0|         0|   0.0|         0|   0.0|         0|   0.0|         0|   1.0|         0|\n",
      "|  32400|140412|   6|         7|2016-03-01 11:11:...|   0.0|         0|   0.0|         0|   0.0|         0|   0.0|         0|   0.0|         0|   7.0|         0|\n",
      "|  24092| 22962|   6|         5|2016-03-01 22:11:...|   0.0|         0|   0.0|         0|   0.0|         0|   0.0|         0|   0.0|         0|   5.0|         0|\n",
      "|  94947| 50225|   6|         2|2016-03-01 15:51:...|   0.0|         0|   0.0|         0|   0.0|         0|   0.0|         0|   0.0|         0|   2.0|         0|\n",
      "|  60530| 81163|   6|         2|2016-03-01 06:32:...|   0.0|         0|   0.0|         0|   0.0|         0|   0.0|         0|   0.0|         0|   2.0|         0|\n",
      "+-------+------+----+----------+--------------------+------+----------+------+----------+------+----------+------+----------+------+----------+------+----------+\n",
      "only showing top 5 rows\n",
      "\n"
     ]
    }
   ],
   "source": [
    "ad = ad.withColumnRenamed('max(time)', 'time')\n",
    "ad.show(5)"
   ]
  },
  {
   "cell_type": "code",
   "execution_count": 199,
   "metadata": {
    "collapsed": false
   },
   "outputs": [
    {
     "name": "stdout",
     "output_type": "stream",
     "text": [
      "+-------+------+----+----------+--------------------+------+----------+------+----------+------+----------+------+----------+------+----------+------+----------+\n",
      "|user_id|sku_id|type|sum(count)|                time|type#1|typetime#1|type#2|typetime#2|type#3|typetime#3|type#4|typetime#4|type#5|typetime#5|type#6|typetime#6|\n",
      "+-------+------+----+----------+--------------------+------+----------+------+----------+------+----------+------+----------+------+----------+------+----------+\n",
      "|  61571| 68686|   6|         2|2016-03-01 03:23:...|   0.0|         0|   0.0|         0|   0.0|         0|   0.0|         0|   0.0|         0|   2.0|         0|\n",
      "|  57679| 39695|   1|         4|2016-03-01 00:13:...|   4.0|         0|   0.0|         0|   0.0|         0|   0.0|         0|   0.0|         0|   0.0|         0|\n",
      "|  45517| 90761|   1|         2|2016-03-01 00:02:...|   2.0|         0|   0.0|         0|   0.0|         0|   0.0|         0|   0.0|         0|   0.0|         0|\n",
      "|  61373| 90621|   6|         2|2016-03-01 00:30:...|   0.0|         0|   0.0|         0|   0.0|         0|   0.0|         0|   0.0|         0|   2.0|         0|\n",
      "|  95623| 72031|   6|         2|2016-03-01 00:00:...|   0.0|         0|   0.0|         0|   0.0|         0|   0.0|         0|   0.0|         0|   2.0|         0|\n",
      "+-------+------+----+----------+--------------------+------+----------+------+----------+------+----------+------+----------+------+----------+------+----------+\n",
      "only showing top 5 rows\n",
      "\n"
     ]
    }
   ],
   "source": [
    "import datetime\n",
    "now = datetime.datetime(2016,3,1,5,0,0)\n",
    "aaa = ad.filter(ad.time<now)\n",
    "aaa.show(5)"
   ]
  },
  {
   "cell_type": "code",
   "execution_count": 179,
   "metadata": {
    "collapsed": false
   },
   "outputs": [],
   "source": [
    "ad.write.csv('mycsv.csv')"
   ]
  },
  {
   "cell_type": "code",
   "execution_count": 57,
   "metadata": {
    "collapsed": false
   },
   "outputs": [
    {
     "name": "stdout",
     "output_type": "stream",
     "text": [
      "+-------+------+------+----------+------+----------+------+----------+------+----------+------+----------+------+----------+\n",
      "|user_id|sku_id|type#1|typetime#1|type#2|typetime#2|type#3|typetime#3|type#4|typetime#4|type#5|typetime#5|type#6|typetime#6|\n",
      "+-------+------+------+----------+------+----------+------+----------+------+----------+------+----------+------+----------+\n",
      "|  31447| 62476|     0|         0|     0|         0|     0|         0|     0|         0|     0|         0|     0|         0|\n",
      "|  32400|140412|     0|         0|     0|         0|     0|         0|     0|         0|     0|         0|     0|         0|\n",
      "|  24092| 22962|     0|         0|     0|         0|     0|         0|     0|         0|     0|         0|     0|         0|\n",
      "|  94947| 50225|     0|         0|     0|         0|     0|         0|     0|         0|     0|         0|     0|         0|\n",
      "|  60530| 81163|     0|         0|     0|         0|     0|         0|     0|         0|     0|         0|     0|         0|\n",
      "+-------+------+------+----------+------+----------+------+----------+------+----------+------+----------+------+----------+\n",
      "only showing top 5 rows\n",
      "\n"
     ]
    }
   ],
   "source": [
    "dd = dt[['user_id','sku_id']]\n",
    "from pyspark.sql.functions import UserDefinedFunction\n",
    "for i in range(1,7):\n",
    "    dd= dd.withColumn(\"type#\"+str(i), functions.lit(0))\n",
    "    dd= dd.withColumn(\"typetime#\"+str(i), functions.lit(0))\n",
    "dd.show(5)"
   ]
  },
  {
   "cell_type": "code",
   "execution_count": null,
   "metadata": {
    "collapsed": true
   },
   "outputs": [],
   "source": []
  },
  {
   "cell_type": "code",
   "execution_count": 33,
   "metadata": {
    "collapsed": false
   },
   "outputs": [
    {
     "name": "stdout",
     "output_type": "stream",
     "text": [
      "root\n",
      " |-- user_id: string (nullable = true)\n",
      " |-- sku_id: string (nullable = true)\n",
      " |-- time: timestamp (nullable = true)\n",
      " |-- model_id: string (nullable = true)\n",
      " |-- type: string (nullable = true)\n",
      " |-- cate: string (nullable = true)\n",
      " |-- brand: string (nullable = true)\n",
      "\n"
     ]
    }
   ],
   "source": [
    "df.printSchema()"
   ]
  },
  {
   "cell_type": "code",
   "execution_count": 28,
   "metadata": {
    "collapsed": false
   },
   "outputs": [],
   "source": [
    "dfaction = dfaction.withColumn(\"time\", dfaction[\"time\"].cast(DateType()))"
   ]
  },
  {
   "cell_type": "code",
   "execution_count": 29,
   "metadata": {
    "collapsed": false
   },
   "outputs": [
    {
     "name": "stdout",
     "output_type": "stream",
     "text": [
      "root\n",
      " |-- user_id: string (nullable = true)\n",
      " |-- sku_id: string (nullable = true)\n",
      " |-- time: date (nullable = true)\n",
      " |-- model_id: string (nullable = true)\n",
      " |-- type: string (nullable = true)\n",
      " |-- cate: string (nullable = true)\n",
      " |-- brand: string (nullable = true)\n",
      "\n"
     ]
    }
   ],
   "source": [
    "dfaction.printSchema()"
   ]
  },
  {
   "cell_type": "code",
   "execution_count": 30,
   "metadata": {
    "collapsed": false
   },
   "outputs": [
    {
     "name": "stdout",
     "output_type": "stream",
     "text": [
      "+-------+------+----------+--------+----+----+-----+\n",
      "|user_id|sku_id|      time|model_id|type|cate|brand|\n",
      "+-------+------+----------+--------+----+----+-----+\n",
      "|  70062|168043|2016-03-01|    null|   6|   6|  269|\n",
      "|  70062|168043|2016-03-01|    null|   6|   6|  269|\n",
      "|  70062|168043|2016-03-01|    null|   6|   6|  269|\n",
      "|  70062|168043|2016-03-01|    null|   6|   6|  269|\n",
      "|  70062|168043|2016-03-01|    null|   6|   6|  269|\n",
      "+-------+------+----------+--------+----+----+-----+\n",
      "only showing top 5 rows\n",
      "\n"
     ]
    }
   ],
   "source": [
    "dfaction.show(5)"
   ]
  }
 ],
 "metadata": {
  "kernelspec": {
   "display_name": "Python 2",
   "language": "python",
   "name": "python2"
  },
  "language_info": {
   "codemirror_mode": {
    "name": "ipython",
    "version": 2
   },
   "file_extension": ".py",
   "mimetype": "text/x-python",
   "name": "python",
   "nbconvert_exporter": "python",
   "pygments_lexer": "ipython2",
   "version": "2.7.6"
  }
 },
 "nbformat": 4,
 "nbformat_minor": 2
}
